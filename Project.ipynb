{
 "cells": [
  {
   "cell_type": "code",
   "execution_count": 31,
   "metadata": {},
   "outputs": [],
   "source": [
    "def dna_count(dna):\n",
    "    dna = dna.upper()\n",
    "    count_A = dna.count('A')\n",
    "    count_C = dna.count('C')\n",
    "    count_G = dna.count('G')\n",
    "    count_T = dna.count('T')\n",
    "    return count_A,count_C,count_G,count_T"
   ]
  },
  {
   "cell_type": "code",
   "execution_count": 28,
   "metadata": {},
   "outputs": [],
   "source": [
    "def dna2rna(dna):\n",
    "    rna = ''\n",
    "    rna = rna.upper()\n",
    "    for symbol in dna:\n",
    "        if symbol == 'A':\n",
    "            rna = rna + 'U'\n",
    "        elif symbol == 'T':\n",
    "            rna = rna + 'A'\n",
    "        elif symbol == 'C':\n",
    "            rna = rna + 'G'\n",
    "        elif symbol == 'G':\n",
    "            rna = rna + 'C' \n",
    "    return rna"
   ]
  },
  {
   "cell_type": "code",
   "execution_count": 26,
   "metadata": {},
   "outputs": [],
   "source": [
    "def rna2dna(rna):\n",
    "    dna = ''\n",
    "    for symbol in rna:\n",
    "        if symbol == 'U':\n",
    "            dna = dna + 'A'\n",
    "        elif symbol == 'A':\n",
    "            dna = dna + 'T'\n",
    "        elif symbol == 'C':\n",
    "            dna = dna + 'G'\n",
    "        elif symbol == 'G':\n",
    "            dna = dna + 'C'\n",
    "    return dna"
   ]
  },
  {
   "cell_type": "code",
   "execution_count": 32,
   "metadata": {},
   "outputs": [],
   "source": [
    "def rna2codon(triplet):\n",
    "    genetic_code = {\n",
    "        'UUU': 'F', 'UUC': 'F', 'UUA': 'L', 'UUG': 'L',        'CUU': 'L', 'CUC': 'L', 'CUA': 'L', 'CUG': 'L',\n",
    "        'AUU': 'I', 'AUC': 'I', 'AUA': 'I', 'AUG': 'M',        'GUU': 'V', 'GUC': 'V', 'GUA': 'V', 'GUG': 'V',\n",
    "\n",
    "        'UCU': 'S', 'UCC': 'S', 'UCA': 'S', 'UCG': 'S',        'CCU': 'P', 'CCC': 'P', 'CCA': 'P', 'CCG': 'P',\n",
    "        'ACU': 'T', 'ACC': 'T', 'ACA': 'T', 'ACG': 'T',        'GCU': 'A', 'GCC': 'A', 'GCA': 'A', 'GCG': 'A',\n",
    "\n",
    "        'UAU': 'Y', 'UAC': 'Y', 'UAA': '*', 'UAG': '*',        'CAU': 'H', 'CAC': 'H', 'CAA': 'Q', 'CAG': 'Q',\n",
    "        'AAU': 'N', 'AAC': 'N', 'AAA': 'K', 'AAG': 'K',        'GAU': 'D', 'GAC': 'D', 'GAA': 'E', 'GAG': 'E',\n",
    "\n",
    "        'UGU': 'C', 'UGC': 'C', 'UGA': '*', 'UGG': 'W',        'CGU': 'R', 'CGC': 'R', 'CGA': 'R', 'CGG': 'R',\n",
    "        'AGU': 'S', 'AGC': 'S', 'AGA': 'R', 'AGG': 'R',        'GGU': 'G', 'GGC': 'G', 'GGA': 'G', 'GGG': 'G',\n",
    "    }\n",
    "    allowed_codons = set('ACGU')\n",
    "    triplet.upper()\n",
    "    amino = genetic_code.get(triplet)\n",
    "    if amino != None:\n",
    "        return amino\n",
    "    else:\n",
    "        return 'Invalid'"
   ]
  },
  {
   "cell_type": "code",
   "execution_count": 29,
   "metadata": {},
   "outputs": [],
   "source": [
    "def rna2codons(triplets):\n",
    "    amino = ''\n",
    "    for i in range( 0,int( len( triplets ) / 3 ) ):\n",
    "        amino += rna2codon(triplets[3*i:3*i+3])\n",
    "    return amino"
   ]
  },
  {
   "cell_type": "code",
   "execution_count": 30,
   "metadata": {},
   "outputs": [],
   "source": [
    "def dna2codons(dnaString):\n",
    "    # Convert the string from DNA to RNA. (Which function does this?)\n",
    "    rnaString = dna2rna(dnaString)\n",
    "    \n",
    "    # Convert the RNA string to its corresponding protein expression string. (Which function does this?)\n",
    "    \n",
    "    codons = rna2codons(rnaString)\n",
    "    \n",
    "    # Return the resulting string.\n",
    "    return codons"
   ]
  },
  {
   "cell_type": "code",
   "execution_count": null,
   "metadata": {},
   "outputs": [],
   "source": []
  }
 ],
 "metadata": {
  "kernelspec": {
   "display_name": "Python 3",
   "language": "python",
   "name": "python3"
  },
  "language_info": {
   "codemirror_mode": {
    "name": "ipython",
    "version": 3
   },
   "file_extension": ".py",
   "mimetype": "text/x-python",
   "name": "python",
   "nbconvert_exporter": "python",
   "pygments_lexer": "ipython3",
   "version": "3.8.5"
  }
 },
 "nbformat": 4,
 "nbformat_minor": 4
}
